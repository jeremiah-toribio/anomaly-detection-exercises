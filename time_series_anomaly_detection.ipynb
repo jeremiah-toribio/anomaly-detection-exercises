{
 "cells": [
  {
   "cell_type": "code",
   "execution_count": 52,
   "metadata": {},
   "outputs": [],
   "source": [
    "# dataframes & arrays\n",
    "import pandas as pd\n",
    "import numpy as np\n",
    "# visualizations\n",
    "import seaborn as sns\n",
    "import matplotlib.pyplot as plt\n",
    "# clear warnings\n",
    "import warnings\n",
    "warnings.filterwarnings(\"ignore\")\n",
    "# request\n",
    "import requests\n",
    "# metrics\n",
    "from sklearn import metrics\n",
    "# scripts\n",
    "import env"
   ]
  },
  {
   "cell_type": "code",
   "execution_count": 53,
   "metadata": {},
   "outputs": [],
   "source": [
    "def parse_log_entry(entry):\n",
    "    parts = entry.split()\n",
    "    output = {}\n",
    "    output['ip'] = parts[0]\n",
    "    output['timestamp'] = parts[3][1:].replace(':', ' ', 1)\n",
    "    output['request_method'] = parts[5][1:]\n",
    "    output['request_path'] = parts[6]\n",
    "    output['http_version'] = parts[7][:-1]\n",
    "    output['status_code'] = parts[8]\n",
    "    output['size'] = int(parts[9])\n",
    "    output['user_agent'] = ' '.join(parts[11:]).replace('\"', '')\n",
    "    return pd.Series(output)"
   ]
  },
  {
   "cell_type": "code",
   "execution_count": 54,
   "metadata": {},
   "outputs": [
    {
     "data": {
      "text/html": [
       "<div>\n",
       "<style scoped>\n",
       "    .dataframe tbody tr th:only-of-type {\n",
       "        vertical-align: middle;\n",
       "    }\n",
       "\n",
       "    .dataframe tbody tr th {\n",
       "        vertical-align: top;\n",
       "    }\n",
       "\n",
       "    .dataframe thead th {\n",
       "        text-align: right;\n",
       "    }\n",
       "</style>\n",
       "<table border=\"1\" class=\"dataframe\">\n",
       "  <thead>\n",
       "    <tr style=\"text-align: right;\">\n",
       "      <th></th>\n",
       "      <th>ip</th>\n",
       "      <th>timestamp</th>\n",
       "      <th>request_method</th>\n",
       "      <th>request_path</th>\n",
       "      <th>http_version</th>\n",
       "      <th>status_code</th>\n",
       "      <th>size</th>\n",
       "      <th>user_agent</th>\n",
       "    </tr>\n",
       "  </thead>\n",
       "  <tbody>\n",
       "    <tr>\n",
       "      <th>0</th>\n",
       "      <td>97.105.19.58</td>\n",
       "      <td>16/Apr/2019 19:34:42</td>\n",
       "      <td>GET</td>\n",
       "      <td>/api/v1/sales?page=81</td>\n",
       "      <td>HTTP/1.1</td>\n",
       "      <td>200</td>\n",
       "      <td>512495</td>\n",
       "      <td>python-requests/2.21.0</td>\n",
       "    </tr>\n",
       "    <tr>\n",
       "      <th>1</th>\n",
       "      <td>97.105.19.58</td>\n",
       "      <td>16/Apr/2019 19:34:42</td>\n",
       "      <td>GET</td>\n",
       "      <td>/api/v1/items</td>\n",
       "      <td>HTTP/1.1</td>\n",
       "      <td>200</td>\n",
       "      <td>3561</td>\n",
       "      <td>python-requests/2.21.0</td>\n",
       "    </tr>\n",
       "    <tr>\n",
       "      <th>2</th>\n",
       "      <td>97.105.19.58</td>\n",
       "      <td>16/Apr/2019 19:34:44</td>\n",
       "      <td>GET</td>\n",
       "      <td>/api/v1/sales?page=82</td>\n",
       "      <td>HTTP/1.1</td>\n",
       "      <td>200</td>\n",
       "      <td>510103</td>\n",
       "      <td>python-requests/2.21.0</td>\n",
       "    </tr>\n",
       "    <tr>\n",
       "      <th>3</th>\n",
       "      <td>97.105.19.58</td>\n",
       "      <td>16/Apr/2019 19:34:46</td>\n",
       "      <td>GET</td>\n",
       "      <td>/api/v1/sales?page=83</td>\n",
       "      <td>HTTP/1.1</td>\n",
       "      <td>200</td>\n",
       "      <td>510003</td>\n",
       "      <td>python-requests/2.21.0</td>\n",
       "    </tr>\n",
       "    <tr>\n",
       "      <th>4</th>\n",
       "      <td>97.105.19.58</td>\n",
       "      <td>16/Apr/2019 19:34:48</td>\n",
       "      <td>GET</td>\n",
       "      <td>/api/v1/sales?page=84</td>\n",
       "      <td>HTTP/1.1</td>\n",
       "      <td>200</td>\n",
       "      <td>511963</td>\n",
       "      <td>python-requests/2.21.0</td>\n",
       "    </tr>\n",
       "  </tbody>\n",
       "</table>\n",
       "</div>"
      ],
      "text/plain": [
       "             ip             timestamp request_method           request_path  \\\n",
       "0  97.105.19.58  16/Apr/2019 19:34:42            GET  /api/v1/sales?page=81   \n",
       "1  97.105.19.58  16/Apr/2019 19:34:42            GET          /api/v1/items   \n",
       "2  97.105.19.58  16/Apr/2019 19:34:44            GET  /api/v1/sales?page=82   \n",
       "3  97.105.19.58  16/Apr/2019 19:34:46            GET  /api/v1/sales?page=83   \n",
       "4  97.105.19.58  16/Apr/2019 19:34:48            GET  /api/v1/sales?page=84   \n",
       "\n",
       "  http_version status_code    size              user_agent  \n",
       "0     HTTP/1.1         200  512495  python-requests/2.21.0  \n",
       "1     HTTP/1.1         200    3561  python-requests/2.21.0  \n",
       "2     HTTP/1.1         200  510103  python-requests/2.21.0  \n",
       "3     HTTP/1.1         200  510003  python-requests/2.21.0  \n",
       "4     HTTP/1.1         200  511963  python-requests/2.21.0  "
      ]
     },
     "execution_count": 54,
     "metadata": {},
     "output_type": "execute_result"
    }
   ],
   "source": [
    "url = f'mysql+pymysql://{env.user}:{env.password}@{env.host}/logs'   \n",
    "df = pd.read_sql('SELECT * FROM api_access', url)\n",
    "# df = pd.concat([df.entry, df.entry.apply(parse_log_entry)], axis=1)\n",
    "df = df.entry.apply(parse_log_entry)\n",
    "df.head()\n"
   ]
  },
  {
   "cell_type": "code",
   "execution_count": 55,
   "metadata": {},
   "outputs": [],
   "source": [
    "new = pd.DataFrame([\n",
    "    [\"95.31.18.119\", \"21/Apr/2019 10:02:41\", \"GET\", \"/api/v1/items/\", \"HTTP/1.1\", '200', 1153005, \"python-requests/2.21.0\"],\n",
    "    [\"95.31.16.121\", \"17/Apr/2019 19:36:41\", \"GET\", \"/api/v1/sales?page=79/\", \"HTTP/1.1\", '301', 1005, \"python-requests/2.21.0\"],\n",
    "    [\"97.105.15.120\", \"18/Apr/2019 19:42:41\", \"GET\", \"/api/v1/sales?page=79/\", \"HTTP/1.1\", '301', 2560, \"python-requests/2.21.0\"],\n",
    "    [\"97.105.19.58\", \"19/Apr/2019 19:42:41\", \"GET\", \"/api/v1/sales?page=79/\", \"HTTP/1.1\", '200', 2056327, \"python-requests/2.21.0\"],\n",
    "], columns=df.columns)\n",
    "\n",
    "df = pd.concat([df,new])\n",
    "\n",
    "df['size_mb'] = df['size'] / 1024 / 1024\n",
    "df.timestamp = pd.to_datetime(df.timestamp)\n",
    "df = df.set_index('timestamp')"
   ]
  },
  {
   "cell_type": "code",
   "execution_count": 56,
   "metadata": {},
   "outputs": [],
   "source": [
    "ip1 = df.set_index('ip')"
   ]
  },
  {
   "cell_type": "code",
   "execution_count": 57,
   "metadata": {},
   "outputs": [
    {
     "data": {
      "text/plain": [
       "<Axes: xlabel='ip'>"
      ]
     },
     "execution_count": 57,
     "metadata": {},
     "output_type": "execute_result"
    },
    {
     "data": {
      "image/png": "[encoded data removed]",
      "text/plain": [
       "<Figure size 640x480 with 1 Axes>"
      ]
     },
     "metadata": {},
     "output_type": "display_data"
    }
   ],
   "source": [
    "ip1.value_counts('ip').plot(kind='bar')"
   ]
  },
  {
   "cell_type": "code",
   "execution_count": 99,
   "metadata": {},
   "outputs": [
    {
     "data": {
      "text/plain": [
       "<Axes: xlabel='size_mb'>"
      ]
     },
     "execution_count": 99,
     "metadata": {},
     "output_type": "execute_result"
    },
    {
     "data": {
      "image/png": "[encoded data removed]",
      "text/plain": [
       "<Figure size 640x480 with 1 Axes>"
      ]
     },
     "metadata": {},
     "output_type": "display_data"
    }
   ],
   "source": [
    "#\n",
    "sns.boxplot(data=ip1, x='size_mb')"
   ]
  },
  {
   "cell_type": "code",
   "execution_count": 118,
   "metadata": {},
   "outputs": [
    {
     "data": {
      "text/plain": [
       "<Axes: >"
      ]
     },
     "execution_count": 118,
     "metadata": {},
     "output_type": "execute_result"
    },
    {
     "data": {
      "image/png": "[encoded data removed]",
      "text/plain": [
       "<Figure size 640x480 with 1 Axes>"
      ]
     },
     "metadata": {},
     "output_type": "display_data"
    }
   ],
   "source": [
    "ip2 = ip1.size_mb.drop(index=(ip1.index[ip1.size_mb > 1]))\n",
    "sns.boxplot(data=ip2)"
   ]
  },
  {
   "cell_type": "code",
   "execution_count": 58,
   "metadata": {},
   "outputs": [],
   "source": [
    "ip_grouped = pd.DataFrame(index=ip1.index.unique())"
   ]
  },
  {
   "cell_type": "code",
   "execution_count": 59,
   "metadata": {},
   "outputs": [],
   "source": [
    "ip_grouped['avg_size'] = ip1.groupby('ip')['size_mb'].mean().sort_values()\n",
    "ip_grouped['max_size'] = ip1.groupby('ip')['size_mb'].max().sort_values()\n",
    "ip_grouped['count_req'] = ip1.groupby('ip')['request_method'].count().sort_values()\n",
    "\n"
   ]
  },
  {
   "cell_type": "code",
   "execution_count": 60,
   "metadata": {},
   "outputs": [
    {
     "data": {
      "text/html": [
       "<div>\n",
       "<style scoped>\n",
       "    .dataframe tbody tr th:only-of-type {\n",
       "        vertical-align: middle;\n",
       "    }\n",
       "\n",
       "    .dataframe tbody tr th {\n",
       "        vertical-align: top;\n",
       "    }\n",
       "\n",
       "    .dataframe thead th {\n",
       "        text-align: right;\n",
       "    }\n",
       "</style>\n",
       "<table border=\"1\" class=\"dataframe\">\n",
       "  <thead>\n",
       "    <tr style=\"text-align: right;\">\n",
       "      <th></th>\n",
       "      <th>avg_size</th>\n",
       "      <th>max_size</th>\n",
       "      <th>count_req</th>\n",
       "    </tr>\n",
       "    <tr>\n",
       "      <th>ip</th>\n",
       "      <th></th>\n",
       "      <th></th>\n",
       "      <th></th>\n",
       "    </tr>\n",
       "  </thead>\n",
       "  <tbody>\n",
       "    <tr>\n",
       "      <th>97.105.19.58</th>\n",
       "      <td>0.438530</td>\n",
       "      <td>1.961066</td>\n",
       "      <td>11999</td>\n",
       "    </tr>\n",
       "    <tr>\n",
       "      <th>95.31.18.119</th>\n",
       "      <td>1.099591</td>\n",
       "      <td>1.099591</td>\n",
       "      <td>1</td>\n",
       "    </tr>\n",
       "    <tr>\n",
       "      <th>173.173.113.51</th>\n",
       "      <td>0.373481</td>\n",
       "      <td>0.489937</td>\n",
       "      <td>1059</td>\n",
       "    </tr>\n",
       "    <tr>\n",
       "      <th>72.181.113.170</th>\n",
       "      <td>0.401429</td>\n",
       "      <td>0.489937</td>\n",
       "      <td>613</td>\n",
       "    </tr>\n",
       "    <tr>\n",
       "      <th>72.181.105.81</th>\n",
       "      <td>0.366913</td>\n",
       "      <td>0.489937</td>\n",
       "      <td>246</td>\n",
       "    </tr>\n",
       "    <tr>\n",
       "      <th>24.26.242.9</th>\n",
       "      <td>0.158562</td>\n",
       "      <td>0.471025</td>\n",
       "      <td>21</td>\n",
       "    </tr>\n",
       "    <tr>\n",
       "      <th>52.87.230.102</th>\n",
       "      <td>0.235590</td>\n",
       "      <td>0.471025</td>\n",
       "      <td>2</td>\n",
       "    </tr>\n",
       "    <tr>\n",
       "      <th>68.201.219.223</th>\n",
       "      <td>0.002184</td>\n",
       "      <td>0.003489</td>\n",
       "      <td>21</td>\n",
       "    </tr>\n",
       "    <tr>\n",
       "      <th>3.88.129.158</th>\n",
       "      <td>0.003396</td>\n",
       "      <td>0.003396</td>\n",
       "      <td>1</td>\n",
       "    </tr>\n",
       "    <tr>\n",
       "      <th>35.175.171.137</th>\n",
       "      <td>0.001718</td>\n",
       "      <td>0.003396</td>\n",
       "      <td>2</td>\n",
       "    </tr>\n",
       "    <tr>\n",
       "      <th>97.105.15.120</th>\n",
       "      <td>0.002441</td>\n",
       "      <td>0.002441</td>\n",
       "      <td>1</td>\n",
       "    </tr>\n",
       "    <tr>\n",
       "      <th>45.23.250.16</th>\n",
       "      <td>0.001266</td>\n",
       "      <td>0.001266</td>\n",
       "      <td>1</td>\n",
       "    </tr>\n",
       "    <tr>\n",
       "      <th>95.31.16.121</th>\n",
       "      <td>0.000958</td>\n",
       "      <td>0.000958</td>\n",
       "      <td>1</td>\n",
       "    </tr>\n",
       "    <tr>\n",
       "      <th>70.121.214.34</th>\n",
       "      <td>0.000097</td>\n",
       "      <td>0.000154</td>\n",
       "      <td>2</td>\n",
       "    </tr>\n",
       "    <tr>\n",
       "      <th>34.229.70.250</th>\n",
       "      <td>0.000154</td>\n",
       "      <td>0.000154</td>\n",
       "      <td>1</td>\n",
       "    </tr>\n",
       "    <tr>\n",
       "      <th>34.207.64.242</th>\n",
       "      <td>0.000154</td>\n",
       "      <td>0.000154</td>\n",
       "      <td>1</td>\n",
       "    </tr>\n",
       "    <tr>\n",
       "      <th>35.174.209.2</th>\n",
       "      <td>0.000154</td>\n",
       "      <td>0.000154</td>\n",
       "      <td>1</td>\n",
       "    </tr>\n",
       "    <tr>\n",
       "      <th>54.145.52.184</th>\n",
       "      <td>0.000154</td>\n",
       "      <td>0.000154</td>\n",
       "      <td>1</td>\n",
       "    </tr>\n",
       "    <tr>\n",
       "      <th>52.90.165.200</th>\n",
       "      <td>0.000154</td>\n",
       "      <td>0.000154</td>\n",
       "      <td>1</td>\n",
       "    </tr>\n",
       "    <tr>\n",
       "      <th>54.172.14.223</th>\n",
       "      <td>0.000154</td>\n",
       "      <td>0.000154</td>\n",
       "      <td>1</td>\n",
       "    </tr>\n",
       "    <tr>\n",
       "      <th>3.92.201.136</th>\n",
       "      <td>0.000040</td>\n",
       "      <td>0.000040</td>\n",
       "      <td>1</td>\n",
       "    </tr>\n",
       "    <tr>\n",
       "      <th>52.91.30.150</th>\n",
       "      <td>0.000040</td>\n",
       "      <td>0.000040</td>\n",
       "      <td>1</td>\n",
       "    </tr>\n",
       "  </tbody>\n",
       "</table>\n",
       "</div>"
      ],
      "text/plain": [
       "                avg_size  max_size  count_req\n",
       "ip                                           \n",
       "97.105.19.58    0.438530  1.961066      11999\n",
       "95.31.18.119    1.099591  1.099591          1\n",
       "173.173.113.51  0.373481  0.489937       1059\n",
       "72.181.113.170  0.401429  0.489937        613\n",
       "72.181.105.81   0.366913  0.489937        246\n",
       "24.26.242.9     0.158562  0.471025         21\n",
       "52.87.230.102   0.235590  0.471025          2\n",
       "68.201.219.223  0.002184  0.003489         21\n",
       "3.88.129.158    0.003396  0.003396          1\n",
       "35.175.171.137  0.001718  0.003396          2\n",
       "97.105.15.120   0.002441  0.002441          1\n",
       "45.23.250.16    0.001266  0.001266          1\n",
       "95.31.16.121    0.000958  0.000958          1\n",
       "70.121.214.34   0.000097  0.000154          2\n",
       "34.229.70.250   0.000154  0.000154          1\n",
       "34.207.64.242   0.000154  0.000154          1\n",
       "35.174.209.2    0.000154  0.000154          1\n",
       "54.145.52.184   0.000154  0.000154          1\n",
       "52.90.165.200   0.000154  0.000154          1\n",
       "54.172.14.223   0.000154  0.000154          1\n",
       "3.92.201.136    0.000040  0.000040          1\n",
       "52.91.30.150    0.000040  0.000040          1"
      ]
     },
     "execution_count": 60,
     "metadata": {},
     "output_type": "execute_result"
    }
   ],
   "source": [
    "# Checking average size of activity by ip address\n",
    "ip_grouped.sort_values('max_size',ascending=False)\n",
    "\n",
    "# 95.31.18.119 has 1 request for 1.09 mbs, which may be some sort of indicator"
   ]
  },
  {
   "cell_type": "code",
   "execution_count": 70,
   "metadata": {},
   "outputs": [
    {
     "data": {
      "text/html": [
       "<div>\n",
       "<style scoped>\n",
       "    .dataframe tbody tr th:only-of-type {\n",
       "        vertical-align: middle;\n",
       "    }\n",
       "\n",
       "    .dataframe tbody tr th {\n",
       "        vertical-align: top;\n",
       "    }\n",
       "\n",
       "    .dataframe thead th {\n",
       "        text-align: right;\n",
       "    }\n",
       "</style>\n",
       "<table border=\"1\" class=\"dataframe\">\n",
       "  <thead>\n",
       "    <tr style=\"text-align: right;\">\n",
       "      <th></th>\n",
       "      <th>request_method</th>\n",
       "      <th>request_path</th>\n",
       "      <th>http_version</th>\n",
       "      <th>status_code</th>\n",
       "      <th>size</th>\n",
       "      <th>user_agent</th>\n",
       "      <th>size_mb</th>\n",
       "    </tr>\n",
       "    <tr>\n",
       "      <th>ip</th>\n",
       "      <th></th>\n",
       "      <th></th>\n",
       "      <th></th>\n",
       "      <th></th>\n",
       "      <th></th>\n",
       "      <th></th>\n",
       "      <th></th>\n",
       "    </tr>\n",
       "  </thead>\n",
       "  <tbody>\n",
       "    <tr>\n",
       "      <th>95.31.18.119</th>\n",
       "      <td>GET</td>\n",
       "      <td>/api/v1/items/</td>\n",
       "      <td>HTTP/1.1</td>\n",
       "      <td>200</td>\n",
       "      <td>1153005</td>\n",
       "      <td>python-requests/2.21.0</td>\n",
       "      <td>1.099591</td>\n",
       "    </tr>\n",
       "  </tbody>\n",
       "</table>\n",
       "</div>"
      ],
      "text/plain": [
       "             request_method    request_path http_version status_code     size  \\\n",
       "ip                                                                              \n",
       "95.31.18.119            GET  /api/v1/items/     HTTP/1.1         200  1153005   \n",
       "\n",
       "                          user_agent   size_mb  \n",
       "ip                                              \n",
       "95.31.18.119  python-requests/2.21.0  1.099591  "
      ]
     },
     "execution_count": 70,
     "metadata": {},
     "output_type": "execute_result"
    }
   ],
   "source": [
    "# investigating the api v1 items page, there could be large items on this page\n",
    "ip1[ip1.index == '95.31.18.119']"
   ]
  },
  {
   "cell_type": "code",
   "execution_count": 71,
   "metadata": {},
   "outputs": [
    {
     "data": {
      "text/html": [
       "<div>\n",
       "<style scoped>\n",
       "    .dataframe tbody tr th:only-of-type {\n",
       "        vertical-align: middle;\n",
       "    }\n",
       "\n",
       "    .dataframe tbody tr th {\n",
       "        vertical-align: top;\n",
       "    }\n",
       "\n",
       "    .dataframe thead th {\n",
       "        text-align: right;\n",
       "    }\n",
       "</style>\n",
       "<table border=\"1\" class=\"dataframe\">\n",
       "  <thead>\n",
       "    <tr style=\"text-align: right;\">\n",
       "      <th></th>\n",
       "      <th>request_method</th>\n",
       "      <th>request_path</th>\n",
       "      <th>http_version</th>\n",
       "      <th>status_code</th>\n",
       "      <th>size</th>\n",
       "      <th>user_agent</th>\n",
       "      <th>size_mb</th>\n",
       "    </tr>\n",
       "    <tr>\n",
       "      <th>ip</th>\n",
       "      <th></th>\n",
       "      <th></th>\n",
       "      <th></th>\n",
       "      <th></th>\n",
       "      <th></th>\n",
       "      <th></th>\n",
       "      <th></th>\n",
       "    </tr>\n",
       "  </thead>\n",
       "  <tbody>\n",
       "    <tr>\n",
       "      <th>95.31.18.119</th>\n",
       "      <td>GET</td>\n",
       "      <td>/api/v1/items/</td>\n",
       "      <td>HTTP/1.1</td>\n",
       "      <td>200</td>\n",
       "      <td>1153005</td>\n",
       "      <td>python-requests/2.21.0</td>\n",
       "      <td>1.099591</td>\n",
       "    </tr>\n",
       "  </tbody>\n",
       "</table>\n",
       "</div>"
      ],
      "text/plain": [
       "             request_method    request_path http_version status_code     size  \\\n",
       "ip                                                                              \n",
       "95.31.18.119            GET  /api/v1/items/     HTTP/1.1         200  1153005   \n",
       "\n",
       "                          user_agent   size_mb  \n",
       "ip                                              \n",
       "95.31.18.119  python-requests/2.21.0  1.099591  "
      ]
     },
     "execution_count": 71,
     "metadata": {},
     "output_type": "execute_result"
    }
   ],
   "source": [
    "# it is also the only request to this page\n",
    "ip1[ip1.request_path == '/api/v1/items/']"
   ]
  },
  {
   "cell_type": "code",
   "execution_count": 62,
   "metadata": {},
   "outputs": [
    {
     "data": {
      "text/plain": [
       "ip              status_code\n",
       "173.173.113.51  200             1059\n",
       "24.26.242.9     200               21\n",
       "3.88.129.158    200                1\n",
       "3.92.201.136    200                1\n",
       "34.207.64.242   200                1\n",
       "34.229.70.250   200                1\n",
       "35.174.209.2    200                1\n",
       "35.175.171.137  200                2\n",
       "45.23.250.16    200                1\n",
       "52.87.230.102   200                2\n",
       "52.90.165.200   200                1\n",
       "52.91.30.150    200                1\n",
       "54.145.52.184   200                1\n",
       "54.172.14.223   200                1\n",
       "68.201.219.223  200               21\n",
       "70.121.214.34   200                2\n",
       "72.181.105.81   200              246\n",
       "72.181.113.170  200              611\n",
       "                499                2\n",
       "95.31.16.121    301                1\n",
       "95.31.18.119    200                1\n",
       "97.105.15.120   301                1\n",
       "97.105.19.58    200            11985\n",
       "                499               14\n",
       "Name: count, dtype: int64"
      ]
     },
     "execution_count": 62,
     "metadata": {},
     "output_type": "execute_result"
    }
   ],
   "source": [
    "# status codes by individual ip\n",
    "\n",
    "ip1.groupby(ip1.index)['status_code'].value_counts().sort_index()"
   ]
  },
  {
   "cell_type": "code",
   "execution_count": 63,
   "metadata": {},
   "outputs": [
    {
     "data": {
      "text/plain": [
       "ip              user_agent                                                                                                               \n",
       "173.173.113.51  python-requests/2.21.0                                                                                                        1059\n",
       "24.26.242.9     python-requests/2.21.0                                                                                                          21\n",
       "3.88.129.158    Slackbot-LinkExpanding 1.0 (+https://api.slack.com/robots)                                                                       1\n",
       "3.92.201.136    Slackbot-LinkExpanding 1.0 (+https://api.slack.com/robots)                                                                       1\n",
       "34.207.64.242   Slackbot 1.0 (+https://api.slack.com/robots)                                                                                     1\n",
       "34.229.70.250   Slackbot 1.0 (+https://api.slack.com/robots)                                                                                     1\n",
       "35.174.209.2    Slackbot 1.0 (+https://api.slack.com/robots)                                                                                     1\n",
       "35.175.171.137  Slackbot-LinkExpanding 1.0 (+https://api.slack.com/robots)                                                                       2\n",
       "45.23.250.16    python-requests/2.21.0                                                                                                           1\n",
       "52.87.230.102   Slackbot 1.0 (+https://api.slack.com/robots)                                                                                     1\n",
       "                Slackbot-LinkExpanding 1.0 (+https://api.slack.com/robots)                                                                       1\n",
       "52.90.165.200   Slackbot 1.0 (+https://api.slack.com/robots)                                                                                     1\n",
       "52.91.30.150    Slackbot-LinkExpanding 1.0 (+https://api.slack.com/robots)                                                                       1\n",
       "54.145.52.184   Slackbot 1.0 (+https://api.slack.com/robots)                                                                                     1\n",
       "54.172.14.223   Slackbot-LinkExpanding 1.0 (+https://api.slack.com/robots)                                                                       1\n",
       "68.201.219.223  python-requests/2.21.0                                                                                                          21\n",
       "70.121.214.34   Mozilla/5.0 (Macintosh; Intel Mac OS X 10_14_3) AppleWebKit/537.36 (KHTML, like Gecko) Chrome/72.0.3626.121 Safari/537.36        2\n",
       "72.181.105.81   Mozilla/5.0 (Macintosh; Intel Mac OS X 10.14; rv:66.0) Gecko/20100101 Firefox/66.0                                               8\n",
       "                Mozilla/5.0 (Macintosh; Intel Mac OS X 10_14_4) AppleWebKit/537.36 (KHTML, like Gecko) Chrome/73.0.3683.103 Safari/537.36        8\n",
       "                python-requests/2.21.0                                                                                                         230\n",
       "72.181.113.170  Mozilla/5.0 (Macintosh; Intel Mac OS X 10_14_3) AppleWebKit/537.36 (KHTML, like Gecko) Chrome/73.0.3683.103 Safari/537.36        2\n",
       "                python-requests/2.21.0                                                                                                         611\n",
       "95.31.16.121    python-requests/2.21.0                                                                                                           1\n",
       "95.31.18.119    python-requests/2.21.0                                                                                                           1\n",
       "97.105.15.120   python-requests/2.21.0                                                                                                           1\n",
       "97.105.19.58    Mozilla/5.0 (Macintosh; Intel Mac OS X 10_14_3) AppleWebKit/537.36 (KHTML, like Gecko) Chrome/73.0.3683.103 Safari/537.36        2\n",
       "                Mozilla/5.0 (Macintosh; Intel Mac OS X 10_14_4) AppleWebKit/537.36 (KHTML, like Gecko) Chrome/73.0.3683.103 Safari/537.36       26\n",
       "                Python-urllib/3.7                                                                                                                1\n",
       "                python-requests/2.20.1                                                                                                        1911\n",
       "                python-requests/2.21.0                                                                                                       10059\n",
       "Name: count, dtype: int64"
      ]
     },
     "execution_count": 63,
     "metadata": {},
     "output_type": "execute_result"
    }
   ],
   "source": [
    "# checking different user agents by ip\n",
    "\n",
    "ip1.groupby(ip1.index)['user_agent'].value_counts().sort_index()\n",
    "\n",
    "# python requests seems to be the most used by numerous ip addresses"
   ]
  },
  {
   "cell_type": "code",
   "execution_count": 64,
   "metadata": {},
   "outputs": [
    {
     "data": {
      "text/plain": [
       "ip              request_method\n",
       "97.105.19.58    GET               11999\n",
       "173.173.113.51  GET                1059\n",
       "72.181.113.170  GET                 613\n",
       "72.181.105.81   GET                 246\n",
       "68.201.219.223  GET                  21\n",
       "24.26.242.9     GET                  21\n",
       "35.175.171.137  GET                   2\n",
       "52.87.230.102   GET                   2\n",
       "70.121.214.34   GET                   2\n",
       "3.88.129.158    GET                   1\n",
       "97.105.15.120   GET                   1\n",
       "95.31.18.119    GET                   1\n",
       "95.31.16.121    GET                   1\n",
       "54.145.52.184   GET                   1\n",
       "54.172.14.223   GET                   1\n",
       "3.92.201.136    GET                   1\n",
       "52.90.165.200   GET                   1\n",
       "45.23.250.16    GET                   1\n",
       "35.174.209.2    GET                   1\n",
       "34.229.70.250   GET                   1\n",
       "34.207.64.242   GET                   1\n",
       "52.91.30.150    GET                   1\n",
       "Name: count, dtype: int64"
      ]
     },
     "execution_count": 64,
     "metadata": {},
     "output_type": "execute_result"
    }
   ],
   "source": [
    "# checking request method by ip\n",
    "ip1.groupby(ip1.index)['request_method'].value_counts().sort_values(ascending=False)\n",
    "\n",
    "# all are only GET"
   ]
  },
  {
   "cell_type": "code",
   "execution_count": 93,
   "metadata": {},
   "outputs": [],
   "source": [
    "# number of unique request paths by ip\n",
    "reqpath = ip1.groupby(ip1.index)['request_path'].value_counts(normalize=True)#.sort_values(ascending=False).reset_index()\n"
   ]
  },
  {
   "cell_type": "code",
   "execution_count": 94,
   "metadata": {},
   "outputs": [
    {
     "data": {
      "text/plain": [
       "ip              request_path                           \n",
       "173.173.113.51  /api/v1/items                              0.060434\n",
       "                /api/v1/items?page=3                       0.058546\n",
       "                /api/v1/items?page=2                       0.058546\n",
       "                /api/v1/stores                             0.050992\n",
       "                /api/v1/sales                              0.007554\n",
       "                                                             ...   \n",
       "97.105.19.58    /api/v1/helloclass!                        0.000083\n",
       "                /api/v1/items&page=0                       0.000083\n",
       "                /api/v1/items?page=0                       0.000083\n",
       "                /api/v1/items?page=99999999999999999998    0.000083\n",
       "                /api/v1/                                   0.000083\n",
       "Name: proportion, Length: 820, dtype: float64"
      ]
     },
     "execution_count": 94,
     "metadata": {},
     "output_type": "execute_result"
    }
   ],
   "source": [
    "reqpath\n",
    "# ips = []\n",
    "# for i in reqpath.request_path:\n",
    "#     print(ip1.iloc[i])\n",
    "#     ips.append(i)"
   ]
  },
  {
   "cell_type": "code",
   "execution_count": 66,
   "metadata": {},
   "outputs": [
    {
     "data": {
      "text/html": [
       "<div>\n",
       "<style scoped>\n",
       "    .dataframe tbody tr th:only-of-type {\n",
       "        vertical-align: middle;\n",
       "    }\n",
       "\n",
       "    .dataframe tbody tr th {\n",
       "        vertical-align: top;\n",
       "    }\n",
       "\n",
       "    .dataframe thead th {\n",
       "        text-align: right;\n",
       "    }\n",
       "</style>\n",
       "<table border=\"1\" class=\"dataframe\">\n",
       "  <thead>\n",
       "    <tr style=\"text-align: right;\">\n",
       "      <th></th>\n",
       "      <th>request_method</th>\n",
       "      <th>request_path</th>\n",
       "      <th>http_version</th>\n",
       "      <th>status_code</th>\n",
       "      <th>size</th>\n",
       "      <th>user_agent</th>\n",
       "      <th>size_mb</th>\n",
       "    </tr>\n",
       "    <tr>\n",
       "      <th>ip</th>\n",
       "      <th></th>\n",
       "      <th></th>\n",
       "      <th></th>\n",
       "      <th></th>\n",
       "      <th></th>\n",
       "      <th></th>\n",
       "      <th></th>\n",
       "    </tr>\n",
       "  </thead>\n",
       "  <tbody>\n",
       "    <tr>\n",
       "      <th>97.105.19.58</th>\n",
       "      <td>GET</td>\n",
       "      <td>/api/v1/sales?page=79/</td>\n",
       "      <td>HTTP/1.1</td>\n",
       "      <td>200</td>\n",
       "      <td>2056327</td>\n",
       "      <td>python-requests/2.21.0</td>\n",
       "      <td>1.961066</td>\n",
       "    </tr>\n",
       "    <tr>\n",
       "      <th>97.105.19.58</th>\n",
       "      <td>GET</td>\n",
       "      <td>/api/v1/sales?page=55</td>\n",
       "      <td>HTTP/1.1</td>\n",
       "      <td>200</td>\n",
       "      <td>513736</td>\n",
       "      <td>python-requests/2.21.0</td>\n",
       "      <td>0.489937</td>\n",
       "    </tr>\n",
       "    <tr>\n",
       "      <th>97.105.19.58</th>\n",
       "      <td>GET</td>\n",
       "      <td>/api/v1/sales?page=55</td>\n",
       "      <td>HTTP/1.1</td>\n",
       "      <td>200</td>\n",
       "      <td>513736</td>\n",
       "      <td>python-requests/2.21.0</td>\n",
       "      <td>0.489937</td>\n",
       "    </tr>\n",
       "    <tr>\n",
       "      <th>97.105.19.58</th>\n",
       "      <td>GET</td>\n",
       "      <td>/api/v1/sales?page=55</td>\n",
       "      <td>HTTP/1.1</td>\n",
       "      <td>200</td>\n",
       "      <td>513736</td>\n",
       "      <td>python-requests/2.21.0</td>\n",
       "      <td>0.489937</td>\n",
       "    </tr>\n",
       "    <tr>\n",
       "      <th>97.105.19.58</th>\n",
       "      <td>GET</td>\n",
       "      <td>/api/v1/sales?page=55</td>\n",
       "      <td>HTTP/1.1</td>\n",
       "      <td>200</td>\n",
       "      <td>513736</td>\n",
       "      <td>python-requests/2.21.0</td>\n",
       "      <td>0.489937</td>\n",
       "    </tr>\n",
       "  </tbody>\n",
       "</table>\n",
       "</div>"
      ],
      "text/plain": [
       "             request_method            request_path http_version status_code  \\\n",
       "ip                                                                             \n",
       "97.105.19.58            GET  /api/v1/sales?page=79/     HTTP/1.1         200   \n",
       "97.105.19.58            GET   /api/v1/sales?page=55     HTTP/1.1         200   \n",
       "97.105.19.58            GET   /api/v1/sales?page=55     HTTP/1.1         200   \n",
       "97.105.19.58            GET   /api/v1/sales?page=55     HTTP/1.1         200   \n",
       "97.105.19.58            GET   /api/v1/sales?page=55     HTTP/1.1         200   \n",
       "\n",
       "                 size              user_agent   size_mb  \n",
       "ip                                                       \n",
       "97.105.19.58  2056327  python-requests/2.21.0  1.961066  \n",
       "97.105.19.58   513736  python-requests/2.21.0  0.489937  \n",
       "97.105.19.58   513736  python-requests/2.21.0  0.489937  \n",
       "97.105.19.58   513736  python-requests/2.21.0  0.489937  \n",
       "97.105.19.58   513736  python-requests/2.21.0  0.489937  "
      ]
     },
     "execution_count": 66,
     "metadata": {},
     "output_type": "execute_result"
    }
   ],
   "source": [
    "# one abnormally large request from page 79, it is the maximum value of the ip and although could not be nefarious, an outlier\n",
    "\n",
    "ip1[ip1.index == '97.105.19.58'].sort_values('size_mb',ascending=False).head()"
   ]
  },
  {
   "cell_type": "code",
   "execution_count": null,
   "metadata": {},
   "outputs": [],
   "source": []
  }
 ],
 "metadata": {
  "kernelspec": {
   "display_name": "codeup",
   "language": "python",
   "name": "python3"
  },
  "language_info": {
   "codemirror_mode": {
    "name": "ipython",
    "version": 3
   },
   "file_extension": ".py",
   "mimetype": "text/x-python",
   "name": "python",
   "nbconvert_exporter": "python",
   "pygments_lexer": "ipython3",
   "version": "3.11.4"
  },
  "orig_nbformat": 4
 },
 "nbformat": 4,
 "nbformat_minor": 2
}
